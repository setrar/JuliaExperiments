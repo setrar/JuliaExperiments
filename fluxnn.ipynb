{
 "cells": [
  {
   "cell_type": "code",
   "execution_count": 1,
   "id": "b0074f97-5fd4-4a56-9a38-43c4e70e68b5",
   "metadata": {},
   "outputs": [],
   "source": [
    "using Flux\n",
    "using Metal\n",
    "using CSV\n",
    "using DataFrames\n",
    "using OneHotArrays\n",
    "using Statistics\n"
   ]
  },
  {
   "cell_type": "code",
   "execution_count": 2,
   "id": "81ec0d92-d5fa-4055-afe0-f48673ba5d96",
   "metadata": {},
   "outputs": [
    {
     "name": "stderr",
     "output_type": "stream",
     "text": [
      "\u001b[36m\u001b[1m[ \u001b[22m\u001b[39m\u001b[36m\u001b[1mInfo: \u001b[22m\u001b[39mUsing backend: Metal.\n"
     ]
    },
    {
     "data": {
      "text/plain": [
       "<AGXG14GDevice: 0x12b281a00>\n",
       "    name = Apple M2"
      ]
     },
     "execution_count": 2,
     "metadata": {},
     "output_type": "execute_result"
    }
   ],
   "source": [
    "Metal.functional()\n",
    "device = Flux.get_device(; verbose=true)\n",
    "device.deviceID\n"
   ]
  },
  {
   "cell_type": "code",
   "execution_count": 3,
   "id": "f0f39b66-5eae-4b41-a5f3-254c68eb15fb",
   "metadata": {},
   "outputs": [
    {
     "data": {
      "text/plain": [
       "\"data/breast-cancer-wisconsin.data\""
      ]
     },
     "execution_count": 3,
     "metadata": {},
     "output_type": "execute_result"
    }
   ],
   "source": [
    "# load breast cancer dataset\n",
    "# csv_file_path = metal_dir * \"data/breast-cancer-wisconsin.data\"\n",
    "csv_file_path = \"data/breast-cancer-wisconsin.data\""
   ]
  },
  {
   "cell_type": "code",
   "execution_count": 4,
   "id": "8144bc60-fe20-4de0-b191-8209328e352b",
   "metadata": {},
   "outputs": [],
   "source": [
    "df_orig = CSV.File(csv_file_path) |> DataFrame;\n",
    "column_names = [:SampleCodeNumber, :ClumpThickness, :UniformityOfCellSize,\n",
    ":UniformityOfCellShape, :MarginalAdhesion, :SingleEpithelialCellSize,\n",
    ":BareNuclei, :BlandChromatin, :NormalNucleoli, :Mitoses, :Class];\n",
    "rename!(df_orig, column_names);"
   ]
  },
  {
   "cell_type": "code",
   "execution_count": 5,
   "id": "cafec812-d4cd-4251-8863-5ae2dfe7112a",
   "metadata": {},
   "outputs": [],
   "source": [
    "# # Remove unwanted columns\n",
    "df = df_orig[:, Not(Cols(:BareNuclei, :SampleCodeNumber))];"
   ]
  },
  {
   "cell_type": "code",
   "execution_count": 6,
   "id": "350864b9-6036-46bc-81a8-93651c485c51",
   "metadata": {},
   "outputs": [],
   "source": [
    "# Define a dictionary to map values\n",
    "class_mapping = Dict(2 => 0, 4 => 1)\n",
    "# Use the map function to apply the mapping\n",
    "df[!, :Class] = map(\n",
    "    x -> class_mapping[x], \n",
    "    df[:, :Class]\n",
    ");"
   ]
  },
  {
   "cell_type": "code",
   "execution_count": 7,
   "id": "a106efe0-0903-4a8b-b4de-6ee2895f2d51",
   "metadata": {},
   "outputs": [
    {
     "data": {
      "text/plain": [
       "Chain(\n",
       "  Dense(8 => 2),                        \u001b[90m# 18 parameters\u001b[39m\n",
       "  NNlib.σ,\n",
       ") "
      ]
     },
     "execution_count": 7,
     "metadata": {},
     "output_type": "execute_result"
    }
   ],
   "source": [
    "model = Chain(\n",
    "    Dense(8 => 2),  # model with 8 features and 2 classes\n",
    "    σ               # sigmoid activation\n",
    ") |> device         # output model to GPU"
   ]
  },
  {
   "cell_type": "code",
   "execution_count": 8,
   "id": "b696f0f9-dacb-4a9d-bafb-93c44d3bb399",
   "metadata": {},
   "outputs": [],
   "source": [
    "classes = [0, 1]\n",
    "accuracy(x, y) = mean(onecold(model(x), classes) .== y);\n",
    "# accuracy(x, y_orig)"
   ]
  },
  {
   "cell_type": "code",
   "execution_count": 9,
   "id": "f687dd0e-5d4f-4e51-a0bc-88c8d191233c",
   "metadata": {},
   "outputs": [],
   "source": [
    "# function loss(ŷ, y)\n",
    "#     Flux.logitcrossentropy(ŷ, y)\n",
    "# end;\n",
    "\n",
    "function loss(ŷ, y)\n",
    "    Flux.binarycrossentropy(ŷ, y)\n",
    "end;"
   ]
  },
  {
   "cell_type": "code",
   "execution_count": 10,
   "id": "3fd23bbb-b559-4916-9836-396c659f1090",
   "metadata": {},
   "outputs": [],
   "source": [
    "X_train = Matrix{Float64}(df[:, Not(:Class)])\n",
    "X_train = transpose(X_train)\n",
    "y_train = vec(df[:, :Class]);"
   ]
  },
  {
   "cell_type": "code",
   "execution_count": 11,
   "id": "faccc0ce-d2a2-42d1-a645-13a7cca79c33",
   "metadata": {},
   "outputs": [
    {
     "data": {
      "text/plain": [
       "698-element DataLoader(::Tuple{LinearAlgebra.Transpose{Float64, Matrix{Float64}}, Vector{Int64}})\n",
       "  with first element:\n",
       "  (8×1 Matrix{Float64}, 1-element Vector{Int64},)"
      ]
     },
     "execution_count": 11,
     "metadata": {},
     "output_type": "execute_result"
    }
   ],
   "source": [
    "optimizer = Flux.setup(Adam(), model)\n",
    "train_loader = Flux.DataLoader((X_train, y_train), batchsize=1, shuffle=false)"
   ]
  },
  {
   "cell_type": "code",
   "execution_count": 12,
   "id": "f95b7cf6-2165-4a40-b91e-6aed2a555d0a",
   "metadata": {},
   "outputs": [],
   "source": [
    "epochs = 1;"
   ]
  },
  {
   "cell_type": "code",
   "execution_count": 13,
   "id": "d0499623-7112-40d4-8a4d-078c9a08ae2c",
   "metadata": {},
   "outputs": [
    {
     "name": "stdout",
     "output_type": "stream",
     "text": [
      "Epoch 1: Accuracy=0.673352435530086, Loss=2.077824599405434\n"
     ]
    }
   ],
   "source": [
    "for epoch in 1:epochs\n",
    "    total_accuracy = 0.\n",
    "    total_loss = 0.\n",
    "    for (x_cpu, y_cpu) in train_loader\n",
    "        # pass the input and label to the GPU\n",
    "        input = reshape(x_cpu, :) |> device\n",
    "        label = y_cpu[1] |> device\n",
    "        # calculate the gradient\n",
    "        ∂f∂x = gradient(m -> loss(m(input), label), model)\n",
    "        Flux.update!(optimizer, model, ∂f∂x[1])\n",
    "        # calculate accuracy and loss\n",
    "        ŷ = model(input)\n",
    "        total_accuracy += accuracy(input, label)\n",
    "        total_loss += loss(ŷ, label)\n",
    "    end\n",
    "    s = length(train_loader)\n",
    "    avg_accuracy = total_accuracy / s\n",
    "    avg_loss = total_loss / s\n",
    "    println(\"Epoch $epoch: Accuracy=$avg_accuracy, Loss=$avg_loss\")\n",
    "end"
   ]
  },
  {
   "cell_type": "markdown",
   "id": "93c4aad7-c57d-4ee9-9771-5b35cad05902",
   "metadata": {},
   "source": [
    "<img src=images/fluxnn.png width='50%' height='50%' > </img>"
   ]
  },
  {
   "cell_type": "code",
   "execution_count": null,
   "id": "56717df9-3fc9-4363-bdcc-db72a7b8b25e",
   "metadata": {},
   "outputs": [],
   "source": []
  }
 ],
 "metadata": {
  "kernelspec": {
   "display_name": "Julia 1.9.3",
   "language": "julia",
   "name": "julia-1.9"
  },
  "language_info": {
   "file_extension": ".jl",
   "mimetype": "application/julia",
   "name": "julia",
   "version": "1.10.1"
  }
 },
 "nbformat": 4,
 "nbformat_minor": 5
}
