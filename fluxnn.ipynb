{
 "cells": [
  {
   "cell_type": "code",
   "execution_count": 1,
   "id": "b0074f97-5fd4-4a56-9a38-43c4e70e68b5",
   "metadata": {},
   "outputs": [],
   "source": [
    "using Flux\n",
    "using Metal\n",
    "using CSV\n",
    "using DataFrames\n",
    "using OneHotArrays\n",
    "using Statistics\n"
   ]
  },
  {
   "cell_type": "code",
   "execution_count": 2,
   "id": "81ec0d92-d5fa-4055-afe0-f48673ba5d96",
   "metadata": {},
   "outputs": [
    {
     "name": "stderr",
     "output_type": "stream",
     "text": [
      "\u001b[36m\u001b[1m[ \u001b[22m\u001b[39m\u001b[36m\u001b[1mInfo: \u001b[22m\u001b[39mUsing backend: Metal.\n"
     ]
    },
    {
     "data": {
      "text/plain": [
       "<AGXG14GDevice: 0x1293cfa00>\n",
       "    name = Apple M2"
      ]
     },
     "execution_count": 2,
     "metadata": {},
     "output_type": "execute_result"
    }
   ],
   "source": [
    "Metal.functional()\n",
    "device = Flux.get_device(; verbose=true)\n",
    "device.deviceID\n"
   ]
  },
  {
   "cell_type": "code",
   "execution_count": 3,
   "id": "f0f39b66-5eae-4b41-a5f3-254c68eb15fb",
   "metadata": {},
   "outputs": [
    {
     "data": {
      "text/plain": [
       "\"data/breast-cancer-wisconsin.data\""
      ]
     },
     "execution_count": 3,
     "metadata": {},
     "output_type": "execute_result"
    }
   ],
   "source": [
    "# load breast cancer dataset\n",
    "# csv_file_path = metal_dir * \"data/breast-cancer-wisconsin.data\"\n",
    "csv_file_path = \"data/breast-cancer-wisconsin.data\""
   ]
  },
  {
   "cell_type": "code",
   "execution_count": 4,
   "id": "8144bc60-fe20-4de0-b191-8209328e352b",
   "metadata": {},
   "outputs": [],
   "source": [
    "df_orig = CSV.File(csv_file_path) |> DataFrame;\n",
    "column_names = [:SampleCodeNumber, :ClumpThickness, :UniformityOfCellSize,\n",
    ":UniformityOfCellShape, :MarginalAdhesion, :SingleEpithelialCellSize,\n",
    ":BareNuclei, :BlandChromatin, :NormalNucleoli, :Mitoses, :Class];\n",
    "rename!(df_orig, column_names);"
   ]
  },
  {
   "cell_type": "code",
   "execution_count": 5,
   "id": "cafec812-d4cd-4251-8863-5ae2dfe7112a",
   "metadata": {},
   "outputs": [],
   "source": [
    "# # Remove unwanted columns\n",
    "df = df_orig[:, Not(Cols(:BareNuclei, :SampleCodeNumber))];"
   ]
  },
  {
   "cell_type": "code",
   "execution_count": 6,
   "id": "350864b9-6036-46bc-81a8-93651c485c51",
   "metadata": {},
   "outputs": [],
   "source": [
    "# Define a dictionary to map values\n",
    "class_mapping = Dict(2 => 0, 4 => 1)\n",
    "# Use the map function to apply the mapping\n",
    "df[!, :Class] = map(\n",
    "    x -> class_mapping[x], \n",
    "    df[:, :Class]\n",
    ");"
   ]
  },
  {
   "cell_type": "code",
   "execution_count": 7,
   "id": "a106efe0-0903-4a8b-b4de-6ee2895f2d51",
   "metadata": {},
   "outputs": [
    {
     "data": {
      "text/plain": [
       "Chain(\n",
       "  Dense(8 => 2),                        \u001b[90m# 18 parameters\u001b[39m\n",
       "  NNlib.σ,\n",
       ") "
      ]
     },
     "execution_count": 7,
     "metadata": {},
     "output_type": "execute_result"
    }
   ],
   "source": [
    "model = Chain(\n",
    "    Dense(8 => 2),  # model with 8 features and 2 classes\n",
    "    σ               # sigmoid activation\n",
    ") |> device         # output model to GPU"
   ]
  },
  {
   "cell_type": "code",
   "execution_count": 8,
   "id": "b696f0f9-dacb-4a9d-bafb-93c44d3bb399",
   "metadata": {},
   "outputs": [],
   "source": [
    "classes = [0, 1]\n",
    "accuracy(x, y) = mean(onecold(model(x), classes) .== y);\n",
    "# accuracy(x, y_orig)"
   ]
  },
  {
   "cell_type": "code",
   "execution_count": 9,
   "id": "f687dd0e-5d4f-4e51-a0bc-88c8d191233c",
   "metadata": {},
   "outputs": [],
   "source": [
    "# function loss(ŷ, y)\n",
    "#     Flux.logitcrossentropy(ŷ, y)\n",
    "# end;\n",
    "\n",
    "function loss(ŷ, y)\n",
    "    Flux.binarycrossentropy(ŷ, y)\n",
    "end;"
   ]
  },
  {
   "cell_type": "code",
   "execution_count": 10,
   "id": "3fd23bbb-b559-4916-9836-396c659f1090",
   "metadata": {},
   "outputs": [],
   "source": [
    "X_train = Matrix{Float64}(df[:, Not(:Class)])\n",
    "X_train = transpose(X_train)\n",
    "y_train = vec(df[:, :Class]);"
   ]
  },
  {
   "cell_type": "code",
   "execution_count": 11,
   "id": "faccc0ce-d2a2-42d1-a645-13a7cca79c33",
   "metadata": {},
   "outputs": [
    {
     "data": {
      "text/plain": [
       "698-element DataLoader(::Tuple{LinearAlgebra.Transpose{Float64, Matrix{Float64}}, Vector{Int64}})\n",
       "  with first element:\n",
       "  (8×1 Matrix{Float64}, 1-element Vector{Int64},)"
      ]
     },
     "execution_count": 11,
     "metadata": {},
     "output_type": "execute_result"
    }
   ],
   "source": [
    "optimizer = Flux.setup(Adam(), model)\n",
    "train_loader = Flux.DataLoader((X_train, y_train), batchsize=1, shuffle=false)"
   ]
  },
  {
   "cell_type": "code",
   "execution_count": 12,
   "id": "f95b7cf6-2165-4a40-b91e-6aed2a555d0a",
   "metadata": {},
   "outputs": [],
   "source": [
    "epochs = 1;"
   ]
  },
  {
   "cell_type": "code",
   "execution_count": 13,
   "id": "d0499623-7112-40d4-8a4d-078c9a08ae2c",
   "metadata": {},
   "outputs": [
    {
     "name": "stdout",
     "output_type": "stream",
     "text": [
      "Epoch 1: Accuracy=0.5859598853868195, Loss=0.8969378419307843\n"
     ]
    }
   ],
   "source": [
    "for epoch in 1:epochs\n",
    "    total_accuracy = 0.\n",
    "    total_loss = 0.\n",
    "    for (x_cpu, y_cpu) in train_loader\n",
    "        # pass the input and label to the GPU\n",
    "        input = reshape(x_cpu, :) |> device\n",
    "        label = y_cpu[1] |> device\n",
    "        # calculate the gradient\n",
    "        ∂f∂x = gradient(m -> loss(m(input), label), model)\n",
    "        Flux.update!(optimizer, model, ∂f∂x[1])\n",
    "        # calculate accuracy and loss\n",
    "        ŷ = model(input)\n",
    "        total_accuracy += accuracy(input, label)\n",
    "        total_loss += loss(ŷ, label)\n",
    "    end\n",
    "    s = length(train_loader)\n",
    "    avg_accuracy = total_accuracy / s\n",
    "    avg_loss = total_loss / s\n",
    "    println(\"Epoch $epoch: Accuracy=$avg_accuracy, Loss=$avg_loss\")\n",
    "end"
   ]
  },
  {
   "cell_type": "markdown",
   "id": "93c4aad7-c57d-4ee9-9771-5b35cad05902",
   "metadata": {},
   "source": [
    "<img src=images/fluxnn.png width='50%' height='50%' > </img>"
   ]
  },
  {
   "cell_type": "markdown",
   "id": "136bebbd-c57b-4a68-9385-87dcbced158b",
   "metadata": {},
   "source": [
    "# &#x1F4DA; References"
   ]
  },
  {
   "cell_type": "markdown",
   "id": "5af6a6eb-f9a4-45a1-9484-af08099da699",
   "metadata": {},
   "source": [
    "## Running the `fluxnn.jl` on the command line\n",
    "\n",
    "```bash\n",
    "julia --project=. src/fluxnn.jl\n",
    "```\n",
    "> Returns\n",
    "```powershell\n",
    "  Activating new project at `/var/folders/c3/1jkjmwxx5vncr00sw0gklknr0000gp/T/jl_HUwIKr`\n",
    "   Resolving package versions...\n",
    "    Updating `/private/var/folders/c3/1jkjmwxx5vncr00sw0gklknr0000gp/T/jl_HUwIKr/Project.toml`\n",
    "  [a93c6f00] + DataFrames v1.6.1\n",
    "  [587475ba] + Flux v0.14.12\n",
    "  [dde4c033] + Metal v1.0.0\n",
    "  [0b1bfda6] + OneHotArrays v0.2.5\n",
    "    Updating `/private/var/folders/c3/1jkjmwxx5vncr00sw0gklknr0000gp/T/jl_HUwIKr/Manifest.toml`\n",
    "  [621f4979] + AbstractFFTs v1.5.0\n",
    "  [79e6a3ab] + Adapt v4.0.1\n",
    "  [dce04be8] + ArgCheck v2.3.0\n",
    "  [a9b6321e] + Atomix v0.1.0\n",
    "⌅ [198e06fe] + BangBang v0.3.40\n",
    "  [9718e550] + Baselet v0.1.1\n",
    "  [fa961155] + CEnum v0.5.0\n",
    "  [082447d4] + ChainRules v1.63.0\n",
    "  [d360d2e6] + ChainRulesCore v1.22.1\n",
    "  [bbf7d656] + CommonSubexpressions v0.3.0\n",
    "  [34da2185] + Compat v4.14.0\n",
    "  [a33af91c] + CompositionsBase v0.1.2\n",
    "  [187b0558] + ConstructionBase v1.5.4\n",
    "  [6add18c4] + ContextVariablesX v0.1.3\n",
    "  [a8cc5b0e] + Crayons v4.1.1\n",
    "  [9a962f9c] + DataAPI v1.16.0\n",
    "  [a93c6f00] + DataFrames v1.6.1\n",
    "  [864edb3b] + DataStructures v0.18.17\n",
    "  [e2d170a0] + DataValueInterfaces v1.0.0\n",
    "  [244e2a9f] + DefineSingletons v0.1.2\n",
    "  [8bb1440f] + DelimitedFiles v1.9.1\n",
    "  [163ba53b] + DiffResults v1.1.0\n",
    "  [b552c78f] + DiffRules v1.15.1\n",
    "  [ffbed154] + DocStringExtensions v0.9.3\n",
    "  [e2ba6199] + ExprTools v0.1.10\n",
    "  [cc61a311] + FLoops v0.2.1\n",
    "  [b9860ae5] + FLoopsBase v0.1.1\n",
    "  [1a297f60] + FillArrays v1.9.3\n",
    "  [587475ba] + Flux v0.14.12\n",
    "  [f6369f11] + ForwardDiff v0.10.36\n",
    "  [d9f16b24] + Functors v0.4.7\n",
    "  [0c68f7d7] + GPUArrays v10.0.2\n",
    "  [46192b85] + GPUArraysCore v0.1.6\n",
    "⌅ [61eb1bfa] + GPUCompiler v0.25.0\n",
    "  [7869d1d1] + IRTools v0.4.12\n",
    "  [22cec73e] + InitialValues v0.3.1\n",
    "  [842dd82b] + InlineStrings v1.4.0\n",
    "  [41ab1584] + InvertedIndices v1.3.0\n",
    "  [92d709cd] + IrrationalConstants v0.2.2\n",
    "  [82899510] + IteratorInterfaceExtensions v1.0.0\n",
    "  [692b3bcd] + JLLWrappers v1.5.0\n",
    "  [b14d175d] + JuliaVariables v0.2.4\n",
    "  [63c18a36] + KernelAbstractions v0.9.17\n",
    "  [929cbde3] + LLVM v6.6.0\n",
    "  [b964fa9f] + LaTeXStrings v1.3.1\n",
    "  [2ab3a3ac] + LogExpFunctions v0.3.27\n",
    "  [d8e11817] + MLStyle v0.4.17\n",
    "  [f1d291b0] + MLUtils v0.4.4\n",
    "  [1914dd2f] + MacroTools v0.5.13\n",
    "  [dde4c033] + Metal v1.0.0\n",
    "⌅ [128add7d] + MicroCollections v0.1.4\n",
    "  [e1d29d7a] + Missings v1.1.0\n",
    "  [872c559c] + NNlib v0.9.12\n",
    "  [77ba4419] + NaNMath v1.0.2\n",
    "  [71a1bf82] + NameResolution v0.1.5\n",
    "  [d8793406] + ObjectFile v0.4.1\n",
    "  [e86c9b32] + ObjectiveC v1.1.0\n",
    "  [0b1bfda6] + OneHotArrays v0.2.5\n",
    "  [3bd65402] + Optimisers v0.3.2\n",
    "  [bac558e1] + OrderedCollections v1.6.3\n",
    "  [69de0a69] + Parsers v2.8.1\n",
    "  [2dfb63ee] + PooledArrays v1.4.3\n",
    "  [aea7be01] + PrecompileTools v1.2.0\n",
    "  [21216c6a] + Preferences v1.4.1\n",
    "  [8162dcfd] + PrettyPrint v0.2.0\n",
    "  [08abe8d2] + PrettyTables v2.3.1\n",
    "  [33c8b6b6] + ProgressLogging v0.1.4\n",
    "  [c1ae055f] + RealDot v0.1.0\n",
    "  [189a3867] + Reexport v1.2.2\n",
    "  [ae029012] + Requires v1.3.0\n",
    "  [6c6a2e73] + Scratch v1.2.1\n",
    "  [91c51154] + SentinelArrays v1.4.1\n",
    "  [efcf1570] + Setfield v1.1.1\n",
    "  [605ecd9f] + ShowCases v0.1.0\n",
    "  [699a6c99] + SimpleTraits v0.9.4\n",
    "  [a2af1166] + SortingAlgorithms v1.2.1\n",
    "  [dc90abb0] + SparseInverseSubset v0.1.2\n",
    "  [276daf66] + SpecialFunctions v2.3.1\n",
    "  [171d559e] + SplittablesBase v0.1.15\n",
    "  [90137ffa] + StaticArrays v1.9.3\n",
    "  [1e83bf80] + StaticArraysCore v1.4.2\n",
    "  [82ae8749] + StatsAPI v1.7.0\n",
    "  [2913bbd2] + StatsBase v0.34.2\n",
    "  [892a3eda] + StringManipulation v0.3.4\n",
    "  [09ab397b] + StructArrays v0.6.18\n",
    "  [53d494c1] + StructIO v0.3.0\n",
    "  [3783bdb8] + TableTraits v1.0.1\n",
    "  [bd369af6] + Tables v1.11.1\n",
    "  [a759f4b9] + TimerOutputs v0.5.23\n",
    "⌃ [28d57a85] + Transducers v0.4.80\n",
    "  [013be700] + UnsafeAtomics v0.2.1\n",
    "  [d80eeb9a] + UnsafeAtomicsLLVM v0.1.3\n",
    "  [e88e6eb3] + Zygote v0.6.69\n",
    "  [700de1a5] + ZygoteRules v0.2.5\n",
    "  [6e34b625] + Bzip2_jll v1.0.8+1\n",
    "  [2e619515] + Expat_jll v2.5.0+0\n",
    "  [dad2f222] + LLVMExtra_jll v0.0.29+0\n",
    "  [7106de7a] + LibMPDec_jll v2.5.1+0\n",
    "⌅ [e9f186c6] + Libffi_jll v3.2.2+1\n",
    "  [0418c028] + Metal_LLVM_Tools_jll v0.5.1+0\n",
    "  [458c3c95] + OpenSSL_jll v3.0.13+0\n",
    "  [efe28fd5] + OpenSpecFun_jll v0.5.5+0\n",
    "  [93d3a430] + Python_jll v3.10.13+0\n",
    "  [76ed43ae] + SQLite_jll v3.45.0+0\n",
    "  [ffd25f8a] + XZ_jll v5.6.0+0\n",
    "  [0dad84c5] + ArgTools v1.1.1\n",
    "  [56f22d72] + Artifacts\n",
    "  [2a0f44e3] + Base64\n",
    "  [ade2ca70] + Dates\n",
    "  [8ba89e20] + Distributed\n",
    "  [f43a241f] + Downloads v1.6.0\n",
    "  [7b1f6079] + FileWatching\n",
    "  [9fa8497b] + Future\n",
    "  [b77e0a4c] + InteractiveUtils\n",
    "  [4af54fe1] + LazyArtifacts\n",
    "  [b27032c2] + LibCURL v0.6.4\n",
    "  [76f85450] + LibGit2\n",
    "  [8f399da3] + Libdl\n",
    "  [37e2e46d] + LinearAlgebra\n",
    "  [56ddb016] + Logging\n",
    "  [d6f4376e] + Markdown\n",
    "  [a63ad114] + Mmap\n",
    "  [ca575930] + NetworkOptions v1.2.0\n",
    "  [44cfe95a] + Pkg v1.10.0\n",
    "  [de0858da] + Printf\n",
    "  [3fa0cd96] + REPL\n",
    "  [9a3f8284] + Random\n",
    "  [ea8e919c] + SHA v0.7.0\n",
    "  [9e88b42a] + Serialization\n",
    "  [6462fe0b] + Sockets\n",
    "  [2f01184e] + SparseArrays v1.10.0\n",
    "  [10745b16] + Statistics v1.10.0\n",
    "  [4607b0f0] + SuiteSparse\n",
    "  [fa267f1f] + TOML v1.0.3\n",
    "  [a4e569a6] + Tar v1.10.0\n",
    "  [8dfed614] + Test\n",
    "  [cf7118a7] + UUIDs\n",
    "  [4ec0a83e] + Unicode\n",
    "  [e66e0078] + CompilerSupportLibraries_jll v1.1.0+0\n",
    "  [deac9b47] + LibCURL_jll v8.4.0+0\n",
    "  [e37daf67] + LibGit2_jll v1.6.4+0\n",
    "  [29816b5a] + LibSSH2_jll v1.11.0+1\n",
    "  [c8ffd9c3] + MbedTLS_jll v2.28.2+1\n",
    "  [14a3606d] + MozillaCACerts_jll v2023.1.10\n",
    "  [4536629a] + OpenBLAS_jll v0.3.23+4\n",
    "  [05823500] + OpenLibm_jll v0.8.1+2\n",
    "  [bea87d4a] + SuiteSparse_jll v7.2.1+1\n",
    "  [83775a58] + Zlib_jll v1.2.13+1\n",
    "  [8e850b90] + libblastrampoline_jll v5.8.0+1\n",
    "  [8e850ede] + nghttp2_jll v1.52.0+1\n",
    "  [3f19e933] + p7zip_jll v17.4.0+2\n",
    "        Info Packages marked with ⌃ and ⌅ have new versions available. Those with ⌃ may be upgradable, but those with ⌅ are restricted by compatibility constraints from upgrading. To see why use `status --outdated -m`\n",
    "   Resolving package versions...\n",
    "    Updating `/private/var/folders/c3/1jkjmwxx5vncr00sw0gklknr0000gp/T/jl_HUwIKr/Project.toml`\n",
    "  [4382bb9f] + metaldemo v0.1.0 `~/Developer/JuliaExperiments`\n",
    "    Updating `/private/var/folders/c3/1jkjmwxx5vncr00sw0gklknr0000gp/T/jl_HUwIKr/Manifest.toml`\n",
    "  [a963bdd2] + AtomsBase v0.3.5\n",
    "⌅ [ab4f0b2a] + BFloat16s v0.4.2\n",
    "  [d1d4a3ce] + BitFlags v0.1.8\n",
    "  [e1450e63] + BufferedStreams v1.2.1\n",
    "  [336ed68f] + CSV v0.10.12\n",
    "  [46823bd8] + Chemfiles v0.10.41\n",
    "  [944b1d66] + CodecZlib v0.7.4\n",
    "  [35d6a980] + ColorSchemes v3.24.0\n",
    "  [3da002f7] + ColorTypes v0.11.4\n",
    "  [c3611d14] + ColorVectorSpace v0.10.0\n",
    "  [5ae59095] + Colors v0.12.10\n",
    "  [f0e56b4a] + ConcurrentUtilities v2.3.1\n",
    "  [124859b0] + DataDeps v0.7.13\n",
    "  [460bff9d] + ExceptionUnwrapping v0.1.10\n",
    "  [5789e2e9] + FileIO v1.16.2\n",
    "  [48062228] + FilePathsBase v0.9.21\n",
    "  [53c48c17] + FixedPointNumbers v0.8.4\n",
    "  [92fee26a] + GZip v0.6.2\n",
    "  [c27321d9] + Glob v1.3.1\n",
    "  [f67ccb44] + HDF5 v0.17.1\n",
    "  [cd3eb016] + HTTP v1.10.2\n",
    "  [c817782e] + ImageBase v0.1.7\n",
    "  [a09fc81d] + ImageCore v0.10.2\n",
    "  [4e3cecfd] + ImageShow v0.3.8\n",
    "  [7d512f48] + InternedStrings v0.7.0\n",
    "  [033835bb] + JLD2 v0.4.46\n",
    "  [0f8b85d8] + JSON3 v1.14.0\n",
    "  [8cdb02fc] + LazyModules v0.3.1\n",
    "  [e6f89c97] + LoggingExtras v1.0.3\n",
    "  [23992714] + MAT v0.10.6\n",
    "  [eb30cadb] + MLDatasets v0.7.14\n",
    "  [3da0fdf6] + MPIPreferences v0.1.10\n",
    "  [dbb5928d] + MappedArrays v0.4.2\n",
    "  [739be429] + MbedTLS v1.1.9\n",
    "  [e94cdb99] + MosaicViews v0.3.4\n",
    "  [15e1cf62] + NPZ v0.4.3\n",
    "  [6fe1bfb0] + OffsetArrays v1.13.0\n",
    "  [4d8831e6] + OpenSSL v1.4.1\n",
    "  [5432bcbf] + PaddedViews v0.5.12\n",
    "  [7b2266bf] + PeriodicTable v1.2.1\n",
    "  [fbb45041] + Pickle v0.3.3\n",
    "  [777ac1f9] + SimpleBufferStream v1.1.0\n",
    "  [cae243ae] + StackViews v0.1.1\n",
    "⌅ [5e0ebb24] + Strided v1.2.3\n",
    "  [69024149] + StringEncodings v0.3.7\n",
    "  [856f2bd8] + StructTypes v1.10.0\n",
    "  [62fd8b95] + TensorCore v0.1.1\n",
    "  [3bb67fe8] + TranscodingStreams v0.10.3\n",
    "  [9d95972d] + TupleTools v1.5.0\n",
    "  [5c2747f8] + URIs v1.5.1\n",
    "  [1986cc42] + Unitful v1.19.0\n",
    "  [a7773ee8] + UnitfulAtomic v1.0.0\n",
    "  [ea10d353] + WeakRefStrings v1.4.2\n",
    "  [76eceee3] + WorkerUtilities v1.6.1\n",
    "  [a5390f91] + ZipFile v0.10.1\n",
    "  [4382bb9f] + metaldemo v0.1.0 `~/Developer/JuliaExperiments`\n",
    "  [78a364fa] + Chemfiles_jll v0.10.4+0\n",
    "  [0234f1f7] + HDF5_jll v1.14.3+1\n",
    "  [e33a78d0] + Hwloc_jll v2.10.0+0\n",
    "  [94ce4f54] + Libiconv_jll v1.17.0+0\n",
    "  [7cb0a576] + MPICH_jll v4.2.0+0\n",
    "  [f1f71cc9] + MPItrampoline_jll v5.3.2+0\n",
    "  [9237b28f] + MicrosoftMPI_jll v10.1.4+2\n",
    "⌅ [fe0851c0] + OpenMPI_jll v4.1.6+0\n",
    "  [477f73a3] + libaec_jll v1.0.6+1\n",
    "        Info Packages marked with ⌅ have new versions available but compatibility constraints restrict them from upgrading. To see why use `status --outdated -m`\n",
    "[ Info: Using backend: Metal.\n",
    "Epoch 1: Accuracy=0.5931232091690545, Loss=0.5558569233923004\n",
    "```"
   ]
  },
  {
   "cell_type": "code",
   "execution_count": null,
   "id": "8de3bde6-b7d1-4ec1-a6d8-384b5ce8fe6f",
   "metadata": {},
   "outputs": [],
   "source": []
  }
 ],
 "metadata": {
  "kernelspec": {
   "display_name": "Julia 1.9.3",
   "language": "julia",
   "name": "julia-1.9"
  },
  "language_info": {
   "file_extension": ".jl",
   "mimetype": "application/julia",
   "name": "julia",
   "version": "1.10.1"
  }
 },
 "nbformat": 4,
 "nbformat_minor": 5
}
