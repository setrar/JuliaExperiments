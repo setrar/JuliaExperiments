{
 "cells": [
  {
   "cell_type": "code",
   "execution_count": 1,
   "id": "7f422207-1a06-48e3-a306-fb1ce79f9005",
   "metadata": {},
   "outputs": [
    {
     "data": {
      "text/plain": [
       "1"
      ]
     },
     "execution_count": 1,
     "metadata": {},
     "output_type": "execute_result"
    }
   ],
   "source": [
    "ENV[\"METAL_CAPTURE_ENABLED\"] = 1"
   ]
  },
  {
   "cell_type": "code",
   "execution_count": 2,
   "id": "d217b495-bd78-4085-be12-4e49afa3f03e",
   "metadata": {},
   "outputs": [],
   "source": [
    "using Metal, BenchmarkTools, LinearAlgebra"
   ]
  },
  {
   "cell_type": "code",
   "execution_count": 3,
   "id": "c29281d9-5d17-4bac-b971-0aec40431f82",
   "metadata": {},
   "outputs": [],
   "source": [
    "function matrix_multiplication_kernel(A, B, C)\n",
    "    idx = thread_position_in_grid_1d()\n",
    "    N = 10\n",
    "    for _ in 1:N\n",
    "        C[idx] += sin(A[idx]) * exp(B[idx])\n",
    "    end\n",
    "    return\n",
    "end;"
   ]
  },
  {
   "cell_type": "code",
   "execution_count": 4,
   "id": "599f81b5-b1b5-41df-ae3b-c098d84d3e3f",
   "metadata": {},
   "outputs": [
    {
     "name": "stderr",
     "output_type": "stream",
     "text": [
      "2024-02-27 14:01:04.734 julia[60000:6100152] Metal GPU Frame Capture Enabled\n"
     ]
    }
   ],
   "source": [
    "m, n, p = 1_000, 1_000, 1_000\n",
    "\n",
    "A = Metal.rand(Float32, (m, n); storage=Shared)\n",
    "B = Metal.rand(Float32, (n, p); storage=Shared)\n",
    "C = Metal.zeros(Float32, (m, p); storage=Shared)\n",
    "\n",
    "C_cpu = unsafe_wrap(Array{Float32}, C, size(C))\n",
    "\n",
    "len = 1024*1024*100\n",
    "n_threads = 1024\n",
    "n_groups = cld(len, n_threads);\n"
   ]
  },
  {
   "cell_type": "code",
   "execution_count": 5,
   "id": "749adb03-b319-4e5c-bac0-b27b63a2bcf7",
   "metadata": {},
   "outputs": [
    {
     "data": {
      "text/plain": [
       "BenchmarkTools.Trial: 483 samples with 1 evaluation.\n",
       " Range \u001b[90m(\u001b[39m\u001b[36m\u001b[1mmin\u001b[22m\u001b[39m … \u001b[35mmax\u001b[39m\u001b[90m):  \u001b[39m\u001b[36m\u001b[1m 7.308 ms\u001b[22m\u001b[39m … \u001b[35m 15.547 ms\u001b[39m  \u001b[90m┊\u001b[39m GC \u001b[90m(\u001b[39mmin … max\u001b[90m): \u001b[39m0.00% … 0.00%\n",
       " Time  \u001b[90m(\u001b[39m\u001b[34m\u001b[1mmedian\u001b[22m\u001b[39m\u001b[90m):     \u001b[39m\u001b[34m\u001b[1m10.392 ms               \u001b[22m\u001b[39m\u001b[90m┊\u001b[39m GC \u001b[90m(\u001b[39mmedian\u001b[90m):    \u001b[39m0.00%\n",
       " Time  \u001b[90m(\u001b[39m\u001b[32m\u001b[1mmean\u001b[22m\u001b[39m ± \u001b[32mσ\u001b[39m\u001b[90m):   \u001b[39m\u001b[32m\u001b[1m10.368 ms\u001b[22m\u001b[39m ± \u001b[32m966.928 μs\u001b[39m  \u001b[90m┊\u001b[39m GC \u001b[90m(\u001b[39mmean ± σ\u001b[90m):  \u001b[39m0.00% ± 0.00%\n",
       "\n",
       "  \u001b[39m \u001b[39m \u001b[39m \u001b[39m \u001b[39m \u001b[39m \u001b[39m \u001b[39m \u001b[39m \u001b[39m \u001b[39m \u001b[39m \u001b[39m \u001b[39m \u001b[39m \u001b[39m \u001b[39m \u001b[39m \u001b[39m \u001b[39m \u001b[39m \u001b[39m \u001b[39m \u001b[39m \u001b[39m \u001b[39m \u001b[39m \u001b[39m \u001b[39m█\u001b[39m▃\u001b[39m▂\u001b[39m \u001b[39m \u001b[39m \u001b[39m \u001b[39m▂\u001b[39m \u001b[34m \u001b[39m\u001b[39m \u001b[39m \u001b[39m \u001b[39m \u001b[39m \u001b[39m \u001b[39m▂\u001b[39m▃\u001b[39m \u001b[39m▁\u001b[39m▂\u001b[39m▁\u001b[39m \u001b[39m \u001b[39m \u001b[39m \u001b[39m \u001b[39m \u001b[39m \u001b[39m \u001b[39m \u001b[39m \u001b[39m \u001b[39m \n",
       "  \u001b[39m▃\u001b[39m▁\u001b[39m▂\u001b[39m▁\u001b[39m▃\u001b[39m▁\u001b[39m▁\u001b[39m▁\u001b[39m▃\u001b[39m▃\u001b[39m▁\u001b[39m▂\u001b[39m▂\u001b[39m▂\u001b[39m▁\u001b[39m▃\u001b[39m▄\u001b[39m▆\u001b[39m▄\u001b[39m▅\u001b[39m▄\u001b[39m▅\u001b[39m▅\u001b[39m▅\u001b[39m▃\u001b[39m▅\u001b[39m▇\u001b[39m█\u001b[39m█\u001b[39m█\u001b[39m█\u001b[39m▆\u001b[39m▆\u001b[39m▅\u001b[39m█\u001b[39m█\u001b[39m█\u001b[34m▇\u001b[39m\u001b[39m█\u001b[39m▇\u001b[39m█\u001b[39m█\u001b[39m█\u001b[39m█\u001b[39m█\u001b[39m█\u001b[39m█\u001b[39m█\u001b[39m█\u001b[39m█\u001b[39m▅\u001b[39m▅\u001b[39m▆\u001b[39m▅\u001b[39m▄\u001b[39m▂\u001b[39m▁\u001b[39m▁\u001b[39m▁\u001b[39m▃\u001b[39m \u001b[39m▄\n",
       "  7.31 ms\u001b[90m         Histogram: frequency by time\u001b[39m         12.3 ms \u001b[0m\u001b[1m<\u001b[22m\n",
       "\n",
       " Memory estimate\u001b[90m: \u001b[39m\u001b[33m4.39 KiB\u001b[39m, allocs estimate\u001b[90m: \u001b[39m\u001b[33m208\u001b[39m."
      ]
     },
     "execution_count": 5,
     "metadata": {},
     "output_type": "execute_result"
    }
   ],
   "source": [
    "benchmark_results = @benchmark Metal.@sync begin\n",
    "    @metal threads=$n_threads groups=$n_groups matrix_multiplication_kernel($A, $B, $C)\n",
    "end"
   ]
  },
  {
   "cell_type": "code",
   "execution_count": 6,
   "id": "03d28924-a1ff-4709-a658-8505e14df4f1",
   "metadata": {},
   "outputs": [],
   "source": [
    "function generate_report(benchmark_results)\n",
    "    println(\"Benchmark Details:\")\n",
    "    show(benchmark_results)\n",
    "    println(\"\\nAdditional Information:\")\n",
    "    println(\"  - Secs: \", minimum(benchmark_results.times))\n",
    "    println(\"  - Memory estimate: \", benchmark_results.memory) \n",
    "end;"
   ]
  },
  {
   "cell_type": "code",
   "execution_count": 7,
   "id": "d42fada4-0959-4080-b567-0252f86d2d28",
   "metadata": {},
   "outputs": [
    {
     "name": "stdout",
     "output_type": "stream",
     "text": [
      "Benchmark Details:\n",
      "Trial(7.308 ms)\n",
      "Additional Information:\n",
      "  - Secs: 7.307541e6\n",
      "  - Memory estimate: 4496\n",
      "Trial(7.308 ms)\n"
     ]
    }
   ],
   "source": [
    "generate_report(benchmark_results)\n",
    "println(benchmark_results)\n",
    "finalize(A)\n",
    "finalize(B)\n",
    "finalize(C)\n"
   ]
  },
  {
   "cell_type": "code",
   "execution_count": 8,
   "id": "eb2f76ed-e2e3-4eae-b12f-cdcd732d12b1",
   "metadata": {},
   "outputs": [
    {
     "data": {
      "text/plain": [
       "1000×1000 Matrix{Float32}:\n",
       "  7.62464f-6   8.36633f-6   3.32465f-6  …  -7.15063f-6  -6.4118f-7\n",
       " -1.04566f-5   9.15481f-6  -1.22784f-5      2.70968f-5   1.34434f-5\n",
       "  5.63164f-6  -9.32931f-6   5.27309f-6     -2.91817f-5  -8.1776f-6\n",
       " -1.40291f-5  -6.98569f-6  -6.24964f-7      2.834f-5    -1.68307f-6\n",
       " -8.8691f-6   -4.65356f-6  -5.68081f-6      1.08244f-5   8.83836f-6\n",
       " -5.63228f-6   5.87806f-6  -8.96055f-6  …   1.40251f-5   1.0643f-5\n",
       " -1.55907f-6   1.02844f-6  -5.60905f-6      1.1255f-5    1.84362f-6\n",
       "  4.98201f-6   8.72346f-6  -6.78458f-7     -6.25853f-6   5.35293f-6\n",
       " -8.15554f-6  -1.48945f-5   5.37479f-6     -2.74923f-6  -1.05896f-5\n",
       " -1.10733f-5  -2.75375f-6  -8.89457f-6      1.92805f-5   1.01614f-5\n",
       "  9.43542f-6   6.30736f-6  -6.79795f-7  …  -2.33425f-5   1.86059f-6\n",
       " -4.67163f-6  -6.32272f-6   1.52284f-6      8.49268f-6  -1.32841f-6\n",
       "  1.33908f-6  -4.64726f-6   1.49257f-6     -4.55839f-6  -2.49072f-6\n",
       "  ⋮                                     ⋱               \n",
       " -5.56182f-6   2.56613f-6  -8.68572f-6      8.61307f-6   4.67774f-6\n",
       " -9.13638f-6   1.73884f-7  -7.12178f-6      2.30919f-5   1.04241f-5\n",
       "  8.51877f-6   3.04654f-6   2.34133f-6  …  -4.64445f-6   1.94778f-6\n",
       "  5.80231f-6   8.83146f-6  -1.63358f-6     -3.05454f-6   5.54904f-6\n",
       "  6.79195f-6  -9.62581f-6   2.51598f-6     -3.09357f-5  -9.88129f-6\n",
       " -1.08165f-5  -1.23546f-6  -9.77326f-6      1.8998f-5    8.6407f-6\n",
       " -8.61668f-7   1.45783f-6  -5.42839f-6      3.93666f-6   1.00677f-5\n",
       "  2.86374f-6   7.25203f-6  -5.17665f-7  …  -1.94611f-6   4.33179f-6\n",
       "  4.2911f-6   -6.28852f-6   2.2776f-6      -1.41655f-5  -9.48995f-6\n",
       "  1.34077f-5   5.59436f-6   9.72026f-6     -2.07583f-5  -2.69968f-6\n",
       "  8.66574f-6  -7.3002f-7    4.81276f-6     -2.03658f-5  -9.16565f-6\n",
       "  2.15567f-6   2.60842f-6   1.22553f-6     -7.05136f-6  -3.8128f-6"
      ]
     },
     "execution_count": 8,
     "metadata": {},
     "output_type": "execute_result"
    }
   ],
   "source": [
    "# The resulting matrix can now be modified on the CPU\n",
    "inv(C_cpu)"
   ]
  },
  {
   "cell_type": "code",
   "execution_count": null,
   "id": "d66acbde-bcb6-44f1-9035-01480760ad19",
   "metadata": {},
   "outputs": [],
   "source": []
  }
 ],
 "metadata": {
  "kernelspec": {
   "display_name": "Julia 1.9.3",
   "language": "julia",
   "name": "julia-1.9"
  },
  "language_info": {
   "file_extension": ".jl",
   "mimetype": "application/julia",
   "name": "julia",
   "version": "1.10.1"
  }
 },
 "nbformat": 4,
 "nbformat_minor": 5
}
